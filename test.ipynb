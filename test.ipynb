{
 "cells": [
  {
   "cell_type": "markdown",
   "id": "a21ac80d",
   "metadata": {},
   "source": [
    "## Test prisoner's dilemma games"
   ]
  },
  {
   "cell_type": "code",
   "execution_count": 34,
   "id": "d3e7bd43",
   "metadata": {},
   "outputs": [
    {
     "name": "stdout",
     "output_type": "stream",
     "text": [
      "The autoreload extension is already loaded. To reload it, use:\n",
      "  %reload_ext autoreload\n"
     ]
    }
   ],
   "source": [
    "import numpy as np\n",
    "from player import Player\n",
    "import strategies\n",
    "from game import Game\n",
    "\n",
    "%load_ext autoreload\n",
    "%autoreload 2"
   ]
  },
  {
   "cell_type": "code",
   "execution_count": 35,
   "id": "b5d11785",
   "metadata": {},
   "outputs": [],
   "source": [
    "# make players\n",
    "always_coop = Player(strategies.always_cooperate)\n",
    "always_defect = Player(strategies.always_defect)\n",
    "random = Player(strategies.random)\n",
    "tit_for_tat = Player(strategies.tit_for_tat)\n",
    "tit_for_2_tats = Player(strategies.tit_for_2_tats)\n",
    "Friedman = Player(strategies.Friedman)\n",
    "Joss = Player(strategies.Joss)\n",
    "Tester = Player(strategies.Tester)\n",
    "\n",
    "# point matrix\n",
    "both_cooperate = np.array([3, 3])\n",
    "both_defect = np.array([1, 1])\n",
    "mixed = np.array([5, 0])\n",
    "point_matrix = np.array([[both_cooperate, mixed[::-1]],\n",
    "                         [mixed, both_defect]])"
   ]
  },
  {
   "cell_type": "code",
   "execution_count": 36,
   "id": "9da35ae0",
   "metadata": {},
   "outputs": [
    {
     "data": {
      "text/plain": [
       "'Nasty'"
      ]
     },
     "execution_count": 36,
     "metadata": {},
     "output_type": "execute_result"
    }
   ],
   "source": [
    "Tester.personality"
   ]
  },
  {
   "cell_type": "code",
   "execution_count": 40,
   "id": "d9148fbd",
   "metadata": {},
   "outputs": [
    {
     "name": "stdout",
     "output_type": "stream",
     "text": [
      "TESTER defeated TIT_FOR_2_TATS.\n",
      "score = [800. 300.].\n"
     ]
    }
   ],
   "source": [
    "# play game\n",
    "game = Game(Tester, tit_for_2_tats, point_matrix, 200)\n",
    "game.play_game()\n",
    "game.tally_score(print_results=True)"
   ]
  },
  {
   "cell_type": "code",
   "execution_count": 41,
   "id": "22ecb2db",
   "metadata": {},
   "outputs": [
    {
     "data": {
      "text/plain": [
       "np.float64(300.0)"
      ]
     },
     "execution_count": 41,
     "metadata": {},
     "output_type": "execute_result"
    }
   ],
   "source": [
    "tit_for_2_tats.total_points"
   ]
  },
  {
   "cell_type": "code",
   "execution_count": null,
   "id": "b18de029",
   "metadata": {},
   "outputs": [],
   "source": []
  }
 ],
 "metadata": {
  "kernelspec": {
   "display_name": "Prisoner",
   "language": "python",
   "name": "python3"
  },
  "language_info": {
   "codemirror_mode": {
    "name": "ipython",
    "version": 3
   },
   "file_extension": ".py",
   "mimetype": "text/x-python",
   "name": "python",
   "nbconvert_exporter": "python",
   "pygments_lexer": "ipython3",
   "version": "3.13.5"
  }
 },
 "nbformat": 4,
 "nbformat_minor": 5
}
