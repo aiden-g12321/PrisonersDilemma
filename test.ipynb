{
 "cells": [
  {
   "cell_type": "markdown",
   "id": "a21ac80d",
   "metadata": {},
   "source": [
    "## Test prisoner's dilemma games"
   ]
  },
  {
   "cell_type": "code",
   "execution_count": 1,
   "id": "d3e7bd43",
   "metadata": {},
   "outputs": [],
   "source": [
    "import numpy as np\n",
    "from player import Player\n",
    "import strategies\n",
    "from game import Game\n",
    "\n",
    "%load_ext autoreload\n",
    "%autoreload 2"
   ]
  },
  {
   "cell_type": "code",
   "execution_count": 2,
   "id": "b5d11785",
   "metadata": {},
   "outputs": [],
   "source": [
    "# make players\n",
    "always_coop = Player(strategies.always_cooperate)\n",
    "always_defect = Player(strategies.always_defect)\n",
    "random = Player(strategies.random)\n",
    "tit_for_tat = Player(strategies.tit_for_tat)\n",
    "tit_for_2_tats = Player(strategies.tit_for_2_tats)\n",
    "Friedman = Player(strategies.Friedman)\n",
    "Joss = Player(strategies.Joss)\n",
    "Tester = Player(strategies.Tester)\n",
    "\n",
    "# point matrix\n",
    "both_cooperate = np.array([3, 3])\n",
    "both_defect = np.array([1, 1])\n",
    "mixed = np.array([5, 0])\n",
    "point_matrix = np.array([[both_cooperate, mixed[::-1]],\n",
    "                         [mixed, both_defect]])"
   ]
  },
  {
   "cell_type": "code",
   "execution_count": 3,
   "id": "d9148fbd",
   "metadata": {},
   "outputs": [
    {
     "name": "stdout",
     "output_type": "stream",
     "text": [
      "TESTER defeated TIT_FOR_2_TATS.\n",
      "score = [800. 300.].\n"
     ]
    }
   ],
   "source": [
    "# play game\n",
    "game = Game(tit_for_2_tats, Tester, point_matrix, 200)\n",
    "game.play_game()\n",
    "game.tally_score(print_results=True)"
   ]
  },
  {
   "cell_type": "code",
   "execution_count": 4,
   "id": "22ecb2db",
   "metadata": {},
   "outputs": [
    {
     "data": {
      "text/html": [
       "<div>\n",
       "<style scoped>\n",
       "    .dataframe tbody tr th:only-of-type {\n",
       "        vertical-align: middle;\n",
       "    }\n",
       "\n",
       "    .dataframe tbody tr th {\n",
       "        vertical-align: top;\n",
       "    }\n",
       "\n",
       "    .dataframe thead th {\n",
       "        text-align: right;\n",
       "    }\n",
       "</style>\n",
       "<table border=\"1\" class=\"dataframe\">\n",
       "  <thead>\n",
       "    <tr style=\"text-align: right;\">\n",
       "      <th></th>\n",
       "      <th>player</th>\n",
       "      <th>score</th>\n",
       "      <th>1</th>\n",
       "      <th>2</th>\n",
       "      <th>3</th>\n",
       "      <th>4</th>\n",
       "      <th>5</th>\n",
       "      <th>6</th>\n",
       "      <th>7</th>\n",
       "      <th>8</th>\n",
       "      <th>...</th>\n",
       "      <th>191</th>\n",
       "      <th>192</th>\n",
       "      <th>193</th>\n",
       "      <th>194</th>\n",
       "      <th>195</th>\n",
       "      <th>196</th>\n",
       "      <th>197</th>\n",
       "      <th>198</th>\n",
       "      <th>199</th>\n",
       "      <th>200</th>\n",
       "    </tr>\n",
       "  </thead>\n",
       "  <tbody>\n",
       "    <tr>\n",
       "      <th>0</th>\n",
       "      <td>TIT_FOR_2_TATS</td>\n",
       "      <td>300.0</td>\n",
       "      <td>0</td>\n",
       "      <td>0</td>\n",
       "      <td>0</td>\n",
       "      <td>0</td>\n",
       "      <td>0</td>\n",
       "      <td>0</td>\n",
       "      <td>0</td>\n",
       "      <td>0</td>\n",
       "      <td>...</td>\n",
       "      <td>0</td>\n",
       "      <td>0</td>\n",
       "      <td>0</td>\n",
       "      <td>0</td>\n",
       "      <td>0</td>\n",
       "      <td>0</td>\n",
       "      <td>0</td>\n",
       "      <td>0</td>\n",
       "      <td>0</td>\n",
       "      <td>0</td>\n",
       "    </tr>\n",
       "    <tr>\n",
       "      <th>1</th>\n",
       "      <td>TESTER</td>\n",
       "      <td>800.0</td>\n",
       "      <td>1</td>\n",
       "      <td>0</td>\n",
       "      <td>1</td>\n",
       "      <td>0</td>\n",
       "      <td>1</td>\n",
       "      <td>0</td>\n",
       "      <td>1</td>\n",
       "      <td>0</td>\n",
       "      <td>...</td>\n",
       "      <td>1</td>\n",
       "      <td>0</td>\n",
       "      <td>1</td>\n",
       "      <td>0</td>\n",
       "      <td>1</td>\n",
       "      <td>0</td>\n",
       "      <td>1</td>\n",
       "      <td>0</td>\n",
       "      <td>1</td>\n",
       "      <td>0</td>\n",
       "    </tr>\n",
       "  </tbody>\n",
       "</table>\n",
       "<p>2 rows × 202 columns</p>\n",
       "</div>"
      ],
      "text/plain": [
       "           player  score  1  2  3  4  5  6  7  8  ...  191  192  193  194  \\\n",
       "0  TIT_FOR_2_TATS  300.0  0  0  0  0  0  0  0  0  ...    0    0    0    0   \n",
       "1          TESTER  800.0  1  0  1  0  1  0  1  0  ...    1    0    1    0   \n",
       "\n",
       "   195  196  197  198  199  200  \n",
       "0    0    0    0    0    0    0  \n",
       "1    1    0    1    0    1    0  \n",
       "\n",
       "[2 rows x 202 columns]"
      ]
     },
     "metadata": {},
     "output_type": "display_data"
    }
   ],
   "source": [
    "display(game.get_score_board())"
   ]
  },
  {
   "cell_type": "code",
   "execution_count": 6,
   "id": "3542f536",
   "metadata": {},
   "outputs": [
    {
     "data": {
      "text/plain": [
       "False"
      ]
     },
     "execution_count": 6,
     "metadata": {},
     "output_type": "execute_result"
    }
   ],
   "source": [
    "tit_for_2_tats.is_nasty"
   ]
  },
  {
   "cell_type": "code",
   "execution_count": null,
   "id": "d5fbae95",
   "metadata": {},
   "outputs": [],
   "source": []
  }
 ],
 "metadata": {
  "kernelspec": {
   "display_name": "Prisoner",
   "language": "python",
   "name": "python3"
  },
  "language_info": {
   "codemirror_mode": {
    "name": "ipython",
    "version": 3
   },
   "file_extension": ".py",
   "mimetype": "text/x-python",
   "name": "python",
   "nbconvert_exporter": "python",
   "pygments_lexer": "ipython3",
   "version": "3.13.5"
  }
 },
 "nbformat": 4,
 "nbformat_minor": 5
}
