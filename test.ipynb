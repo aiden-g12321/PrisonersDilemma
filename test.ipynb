{
 "cells": [
  {
   "cell_type": "markdown",
   "id": "a21ac80d",
   "metadata": {},
   "source": [
    "## Test prisoner's dilemma games"
   ]
  },
  {
   "cell_type": "code",
   "execution_count": 1,
   "id": "d3e7bd43",
   "metadata": {},
   "outputs": [],
   "source": [
    "import numpy as np\n",
    "from player import Player\n",
    "import strategies\n",
    "from game import Game"
   ]
  },
  {
   "cell_type": "code",
   "execution_count": 2,
   "id": "b5d11785",
   "metadata": {},
   "outputs": [],
   "source": [
    "# make players\n",
    "always_coop = Player(strategies.always_cooperate)\n",
    "always_defect = Player(strategies.always_defect)\n",
    "half_coop = Player(strategies.half_coop_half_defect)\n",
    "tit_for_tat = Player(strategies.tit_for_tat)\n",
    "\n",
    "# reward matrix\n",
    "both_cooperate = np.array([3, 3])\n",
    "both_defect = np.array([1, 1])\n",
    "mixed = np.array([5, 0])\n",
    "reward_matrix = np.array([[both_cooperate, mixed[::-1]],\n",
    "                          [mixed, both_defect]])"
   ]
  },
  {
   "cell_type": "code",
   "execution_count": 3,
   "id": "d9148fbd",
   "metadata": {},
   "outputs": [
    {
     "name": "stdout",
     "output_type": "stream",
     "text": [
      "HALF_COOP_HALF_DEFECT defeated ALWAYS_COOPERATE.\n",
      "score = [796. 306.].\n"
     ]
    }
   ],
   "source": [
    "# play game\n",
    "game = Game(always_coop, half_coop, reward_matrix, 200)\n",
    "game.play_game()\n",
    "game.tally_score(print_results=True)"
   ]
  },
  {
   "cell_type": "code",
   "execution_count": 4,
   "id": "22ecb2db",
   "metadata": {},
   "outputs": [
    {
     "data": {
      "text/plain": [
       "np.float64(796.0)"
      ]
     },
     "execution_count": 4,
     "metadata": {},
     "output_type": "execute_result"
    }
   ],
   "source": [
    "half_coop.total_score"
   ]
  },
  {
   "cell_type": "code",
   "execution_count": null,
   "id": "b18de029",
   "metadata": {},
   "outputs": [],
   "source": []
  }
 ],
 "metadata": {
  "kernelspec": {
   "display_name": "Prisoner",
   "language": "python",
   "name": "python3"
  },
  "language_info": {
   "codemirror_mode": {
    "name": "ipython",
    "version": 3
   },
   "file_extension": ".py",
   "mimetype": "text/x-python",
   "name": "python",
   "nbconvert_exporter": "python",
   "pygments_lexer": "ipython3",
   "version": "3.13.5"
  }
 },
 "nbformat": 4,
 "nbformat_minor": 5
}
