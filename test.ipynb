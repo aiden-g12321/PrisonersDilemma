{
 "cells": [
  {
   "cell_type": "markdown",
   "id": "a21ac80d",
   "metadata": {},
   "source": [
    "## Test prisoner's dilemma games"
   ]
  },
  {
   "cell_type": "code",
   "execution_count": 1,
   "id": "d3e7bd43",
   "metadata": {},
   "outputs": [],
   "source": [
    "import numpy as np\n",
    "from player import Player\n",
    "import strategies\n",
    "from game import Game\n",
    "from tournament import Tournament\n",
    "\n",
    "%load_ext autoreload\n",
    "%autoreload 2"
   ]
  },
  {
   "cell_type": "code",
   "execution_count": 2,
   "id": "b5d11785",
   "metadata": {},
   "outputs": [],
   "source": [
    "# make players\n",
    "always_coop = Player(strategies.always_cooperate)\n",
    "always_defect = Player(strategies.always_defect)\n",
    "random = Player(strategies.random)\n",
    "tit_for_tat = Player(strategies.tit_for_tat)\n",
    "tit_for_2_tats = Player(strategies.tit_for_2_tats)\n",
    "Friedman = Player(strategies.Friedman)\n",
    "Joss = Player(strategies.Joss)\n",
    "Tester = Player(strategies.Tester)\n",
    "\n",
    "# point matrix\n",
    "both_cooperate = np.array([3, 3])\n",
    "both_defect = np.array([1, 1])\n",
    "mixed = np.array([5, 0])\n",
    "point_matrix = np.array([[both_cooperate, mixed[::-1]],\n",
    "                         [mixed, both_defect]])"
   ]
  },
  {
   "cell_type": "code",
   "execution_count": 3,
   "id": "ad624688",
   "metadata": {},
   "outputs": [],
   "source": [
    "players = [always_coop, always_defect, random, tit_for_tat,\n",
    "           tit_for_2_tats, Friedman, Joss, Tester]\n",
    "tournament = Tournament(players, point_matrix, 200)"
   ]
  },
  {
   "cell_type": "code",
   "execution_count": 4,
   "id": "f040be87",
   "metadata": {},
   "outputs": [],
   "source": [
    "tournament.play_tournament()"
   ]
  },
  {
   "cell_type": "code",
   "execution_count": 5,
   "id": "91a50eae",
   "metadata": {},
   "outputs": [
    {
     "data": {
      "text/html": [
       "<div>\n",
       "<style scoped>\n",
       "    .dataframe tbody tr th:only-of-type {\n",
       "        vertical-align: middle;\n",
       "    }\n",
       "\n",
       "    .dataframe tbody tr th {\n",
       "        vertical-align: top;\n",
       "    }\n",
       "\n",
       "    .dataframe thead th {\n",
       "        text-align: right;\n",
       "    }\n",
       "</style>\n",
       "<table border=\"1\" class=\"dataframe\">\n",
       "  <thead>\n",
       "    <tr style=\"text-align: right;\">\n",
       "      <th></th>\n",
       "      <th>player</th>\n",
       "      <th>score</th>\n",
       "      <th>1</th>\n",
       "      <th>2</th>\n",
       "      <th>3</th>\n",
       "      <th>4</th>\n",
       "      <th>5</th>\n",
       "      <th>6</th>\n",
       "      <th>7</th>\n",
       "      <th>8</th>\n",
       "      <th>...</th>\n",
       "      <th>191</th>\n",
       "      <th>192</th>\n",
       "      <th>193</th>\n",
       "      <th>194</th>\n",
       "      <th>195</th>\n",
       "      <th>196</th>\n",
       "      <th>197</th>\n",
       "      <th>198</th>\n",
       "      <th>199</th>\n",
       "      <th>200</th>\n",
       "    </tr>\n",
       "  </thead>\n",
       "  <tbody>\n",
       "    <tr>\n",
       "      <th>0</th>\n",
       "      <td>FRIEDMAN</td>\n",
       "      <td>231.0</td>\n",
       "      <td>0</td>\n",
       "      <td>0</td>\n",
       "      <td>0</td>\n",
       "      <td>0</td>\n",
       "      <td>0</td>\n",
       "      <td>0</td>\n",
       "      <td>0</td>\n",
       "      <td>0</td>\n",
       "      <td>...</td>\n",
       "      <td>1</td>\n",
       "      <td>1</td>\n",
       "      <td>1</td>\n",
       "      <td>1</td>\n",
       "      <td>1</td>\n",
       "      <td>1</td>\n",
       "      <td>1</td>\n",
       "      <td>1</td>\n",
       "      <td>1</td>\n",
       "      <td>1</td>\n",
       "    </tr>\n",
       "    <tr>\n",
       "      <th>1</th>\n",
       "      <td>JOSS</td>\n",
       "      <td>231.0</td>\n",
       "      <td>0</td>\n",
       "      <td>0</td>\n",
       "      <td>0</td>\n",
       "      <td>0</td>\n",
       "      <td>0</td>\n",
       "      <td>0</td>\n",
       "      <td>0</td>\n",
       "      <td>0</td>\n",
       "      <td>...</td>\n",
       "      <td>1</td>\n",
       "      <td>1</td>\n",
       "      <td>1</td>\n",
       "      <td>1</td>\n",
       "      <td>1</td>\n",
       "      <td>1</td>\n",
       "      <td>1</td>\n",
       "      <td>1</td>\n",
       "      <td>1</td>\n",
       "      <td>1</td>\n",
       "    </tr>\n",
       "  </tbody>\n",
       "</table>\n",
       "<p>2 rows × 202 columns</p>\n",
       "</div>"
      ],
      "text/plain": [
       "     player  score  1  2  3  4  5  6  7  8  ...  191  192  193  194  195  196  \\\n",
       "0  FRIEDMAN  231.0  0  0  0  0  0  0  0  0  ...    1    1    1    1    1    1   \n",
       "1      JOSS  231.0  0  0  0  0  0  0  0  0  ...    1    1    1    1    1    1   \n",
       "\n",
       "   197  198  199  200  \n",
       "0    1    1    1    1  \n",
       "1    1    1    1    1  \n",
       "\n",
       "[2 rows x 202 columns]"
      ]
     },
     "metadata": {},
     "output_type": "display_data"
    }
   ],
   "source": [
    "display(tournament.games[(Joss.name, Friedman.name)].get_score_board())"
   ]
  },
  {
   "cell_type": "code",
   "execution_count": 6,
   "id": "4f9af39c",
   "metadata": {},
   "outputs": [
    {
     "name": "stdout",
     "output_type": "stream",
     "text": [
      "most wins = ALWAYS_DEFECT\n"
     ]
    }
   ],
   "source": [
    "win_counts = [player.win_count for player in tournament.players]\n",
    "most_wins = tournament.players[np.argmax(np.array(win_counts))]\n",
    "print(f'most wins = {most_wins.name}')"
   ]
  },
  {
   "cell_type": "code",
   "execution_count": 7,
   "id": "1b5b563c",
   "metadata": {},
   "outputs": [
    {
     "name": "stdout",
     "output_type": "stream",
     "text": [
      "ALWAYS_COOPERATE = 4134.0\n",
      "ALWAYS_DEFECT = 3004.0\n",
      "RANDOM = 3846.0\n",
      "TIT_FOR_TAT = 4479.0\n",
      "TIT_FOR_2_TATS = 4252.0\n",
      "FRIEDMAN = 4302.0\n",
      "JOSS = 2995.0\n",
      "TESTER = 4109.0\n"
     ]
    }
   ],
   "source": [
    "for player in tournament.players:\n",
    "    print(f'{player.name} = {player.total_points}')"
   ]
  },
  {
   "cell_type": "code",
   "execution_count": 8,
   "id": "709c4ea4",
   "metadata": {},
   "outputs": [
    {
     "data": {
      "text/html": [
       "<div>\n",
       "<style scoped>\n",
       "    .dataframe tbody tr th:only-of-type {\n",
       "        vertical-align: middle;\n",
       "    }\n",
       "\n",
       "    .dataframe tbody tr th {\n",
       "        vertical-align: top;\n",
       "    }\n",
       "\n",
       "    .dataframe thead th {\n",
       "        text-align: right;\n",
       "    }\n",
       "</style>\n",
       "<table border=\"1\" class=\"dataframe\">\n",
       "  <thead>\n",
       "    <tr style=\"text-align: right;\">\n",
       "      <th></th>\n",
       "      <th>player</th>\n",
       "      <th>score</th>\n",
       "      <th>1</th>\n",
       "      <th>2</th>\n",
       "      <th>3</th>\n",
       "      <th>4</th>\n",
       "      <th>5</th>\n",
       "      <th>6</th>\n",
       "      <th>7</th>\n",
       "      <th>8</th>\n",
       "      <th>...</th>\n",
       "      <th>191</th>\n",
       "      <th>192</th>\n",
       "      <th>193</th>\n",
       "      <th>194</th>\n",
       "      <th>195</th>\n",
       "      <th>196</th>\n",
       "      <th>197</th>\n",
       "      <th>198</th>\n",
       "      <th>199</th>\n",
       "      <th>200</th>\n",
       "    </tr>\n",
       "  </thead>\n",
       "  <tbody>\n",
       "    <tr>\n",
       "      <th>0</th>\n",
       "      <td>TIT_FOR_2_TATS</td>\n",
       "      <td>385.0</td>\n",
       "      <td>0</td>\n",
       "      <td>0</td>\n",
       "      <td>0</td>\n",
       "      <td>0</td>\n",
       "      <td>0</td>\n",
       "      <td>0</td>\n",
       "      <td>0</td>\n",
       "      <td>0</td>\n",
       "      <td>...</td>\n",
       "      <td>1</td>\n",
       "      <td>1</td>\n",
       "      <td>1</td>\n",
       "      <td>1</td>\n",
       "      <td>1</td>\n",
       "      <td>1</td>\n",
       "      <td>1</td>\n",
       "      <td>1</td>\n",
       "      <td>1</td>\n",
       "      <td>1</td>\n",
       "    </tr>\n",
       "    <tr>\n",
       "      <th>1</th>\n",
       "      <td>JOSS</td>\n",
       "      <td>455.0</td>\n",
       "      <td>0</td>\n",
       "      <td>0</td>\n",
       "      <td>0</td>\n",
       "      <td>1</td>\n",
       "      <td>0</td>\n",
       "      <td>0</td>\n",
       "      <td>0</td>\n",
       "      <td>0</td>\n",
       "      <td>...</td>\n",
       "      <td>1</td>\n",
       "      <td>1</td>\n",
       "      <td>1</td>\n",
       "      <td>1</td>\n",
       "      <td>1</td>\n",
       "      <td>1</td>\n",
       "      <td>1</td>\n",
       "      <td>1</td>\n",
       "      <td>1</td>\n",
       "      <td>1</td>\n",
       "    </tr>\n",
       "  </tbody>\n",
       "</table>\n",
       "<p>2 rows × 202 columns</p>\n",
       "</div>"
      ],
      "text/plain": [
       "           player  score  1  2  3  4  5  6  7  8  ...  191  192  193  194  \\\n",
       "0  TIT_FOR_2_TATS  385.0  0  0  0  0  0  0  0  0  ...    1    1    1    1   \n",
       "1            JOSS  455.0  0  0  0  1  0  0  0  0  ...    1    1    1    1   \n",
       "\n",
       "   195  196  197  198  199  200  \n",
       "0    1    1    1    1    1    1  \n",
       "1    1    1    1    1    1    1  \n",
       "\n",
       "[2 rows x 202 columns]"
      ]
     },
     "metadata": {},
     "output_type": "display_data"
    }
   ],
   "source": [
    "display(tournament.games[Joss.name, tit_for_2_tats.name].get_score_board())"
   ]
  },
  {
   "cell_type": "code",
   "execution_count": null,
   "id": "d5fbae95",
   "metadata": {},
   "outputs": [],
   "source": []
  }
 ],
 "metadata": {
  "kernelspec": {
   "display_name": "Prisoner",
   "language": "python",
   "name": "python3"
  },
  "language_info": {
   "codemirror_mode": {
    "name": "ipython",
    "version": 3
   },
   "file_extension": ".py",
   "mimetype": "text/x-python",
   "name": "python",
   "nbconvert_exporter": "python",
   "pygments_lexer": "ipython3",
   "version": "3.13.5"
  }
 },
 "nbformat": 4,
 "nbformat_minor": 5
}
